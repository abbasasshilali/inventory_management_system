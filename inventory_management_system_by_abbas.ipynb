{
 "cells": [
  {
   "cell_type": "code",
   "execution_count": 1,
   "id": "62d4abb9-cc13-44a3-b0dc-704ecb0c4d8e",
   "metadata": {},
   "outputs": [
    {
     "name": "stdout",
     "output_type": "stream",
     "text": [
      "Inventory Management Menu:\n",
      "1. Add Item\n",
      "2. Display Inventory\n",
      "3. Search Item\n",
      "4. Update Stock\n",
      "5. Low Stock Report\n",
      "6. Exit\n"
     ]
    },
    {
     "name": "stdin",
     "output_type": "stream",
     "text": [
      "Enter your choice (1-6):  1\n",
      "Enter Item ID:  001\n",
      "Enter Item Name:  rice\n",
      "Enter Category:  grains\n",
      "Enter Unit Price:  50\n",
      "Enter Current Stock Quantity:  100\n",
      "Enter Minimum Stock Threshold:  20\n"
     ]
    },
    {
     "name": "stdout",
     "output_type": "stream",
     "text": [
      "Item 'rice' added successfully!\n",
      "\n",
      "\n",
      "Inventory Management Menu:\n",
      "1. Add Item\n",
      "2. Display Inventory\n",
      "3. Search Item\n",
      "4. Update Stock\n",
      "5. Low Stock Report\n",
      "6. Exit\n"
     ]
    },
    {
     "name": "stdin",
     "output_type": "stream",
     "text": [
      "Enter your choice (1-6):  2\n"
     ]
    },
    {
     "name": "stdout",
     "output_type": "stream",
     "text": [
      "Inventory List:\n",
      "{'Item ID': '001', 'Item Name': 'rice', 'Category': 'grains', 'Unit Price': 50.0, 'Current Stock': 100, 'Minimum Stock Threshold': 20}\n",
      "\n",
      "\n",
      "Inventory Management Menu:\n",
      "1. Add Item\n",
      "2. Display Inventory\n",
      "3. Search Item\n",
      "4. Update Stock\n",
      "5. Low Stock Report\n",
      "6. Exit\n"
     ]
    },
    {
     "name": "stdin",
     "output_type": "stream",
     "text": [
      "Enter your choice (1-6):  3\n",
      "Enter the item name to search:  rice\n"
     ]
    },
    {
     "name": "stdout",
     "output_type": "stream",
     "text": [
      "Item found: {'Item ID': '001', 'Item Name': 'rice', 'Category': 'grains', 'Unit Price': 50.0, 'Current Stock': 100, 'Minimum Stock Threshold': 20}\n",
      "\n",
      "\n",
      "Inventory Management Menu:\n",
      "1. Add Item\n",
      "2. Display Inventory\n",
      "3. Search Item\n",
      "4. Update Stock\n",
      "5. Low Stock Report\n",
      "6. Exit\n"
     ]
    },
    {
     "name": "stdin",
     "output_type": "stream",
     "text": [
      "Enter your choice (1-6):  4\n",
      "Enter the item name to update stock:  rice\n",
      "Enter new stock quantity:  30\n"
     ]
    },
    {
     "name": "stdout",
     "output_type": "stream",
     "text": [
      "Stock updated for 'rice'. New stock: 30\n",
      "\n",
      "\n",
      "Inventory Management Menu:\n",
      "1. Add Item\n",
      "2. Display Inventory\n",
      "3. Search Item\n",
      "4. Update Stock\n",
      "5. Low Stock Report\n",
      "6. Exit\n"
     ]
    },
    {
     "name": "stdin",
     "output_type": "stream",
     "text": [
      "Enter your choice (1-6):  2\n"
     ]
    },
    {
     "name": "stdout",
     "output_type": "stream",
     "text": [
      "Inventory List:\n",
      "{'Item ID': '001', 'Item Name': 'rice', 'Category': 'grains', 'Unit Price': 50.0, 'Current Stock': 30, 'Minimum Stock Threshold': 20}\n",
      "\n",
      "\n",
      "Inventory Management Menu:\n",
      "1. Add Item\n",
      "2. Display Inventory\n",
      "3. Search Item\n",
      "4. Update Stock\n",
      "5. Low Stock Report\n",
      "6. Exit\n"
     ]
    },
    {
     "name": "stdin",
     "output_type": "stream",
     "text": [
      "Enter your choice (1-6):  5\n"
     ]
    },
    {
     "name": "stdout",
     "output_type": "stream",
     "text": [
      "Low Stock Items (below threshold):\n",
      "No items are below the minimum stock threshold.\n",
      "\n",
      "\n",
      "Inventory Management Menu:\n",
      "1. Add Item\n",
      "2. Display Inventory\n",
      "3. Search Item\n",
      "4. Update Stock\n",
      "5. Low Stock Report\n",
      "6. Exit\n"
     ]
    },
    {
     "name": "stdin",
     "output_type": "stream",
     "text": [
      "Enter your choice (1-6):  4\n",
      "Enter the item name to update stock:  rice\n",
      "Enter new stock quantity:  15\n"
     ]
    },
    {
     "name": "stdout",
     "output_type": "stream",
     "text": [
      "Stock updated for 'rice'. New stock: 15\n",
      "\n",
      "\n",
      "Inventory Management Menu:\n",
      "1. Add Item\n",
      "2. Display Inventory\n",
      "3. Search Item\n",
      "4. Update Stock\n",
      "5. Low Stock Report\n",
      "6. Exit\n"
     ]
    },
    {
     "name": "stdin",
     "output_type": "stream",
     "text": [
      "Enter your choice (1-6):  5\n"
     ]
    },
    {
     "name": "stdout",
     "output_type": "stream",
     "text": [
      "Low Stock Items (below threshold):\n",
      "{'Item ID': '001', 'Item Name': 'rice', 'Category': 'grains', 'Unit Price': 50.0, 'Current Stock': 15, 'Minimum Stock Threshold': 20}\n",
      "\n",
      "\n",
      "Inventory Management Menu:\n",
      "1. Add Item\n",
      "2. Display Inventory\n",
      "3. Search Item\n",
      "4. Update Stock\n",
      "5. Low Stock Report\n",
      "6. Exit\n"
     ]
    },
    {
     "name": "stdin",
     "output_type": "stream",
     "text": [
      "Enter your choice (1-6):  6\n"
     ]
    },
    {
     "name": "stdout",
     "output_type": "stream",
     "text": [
      "Exiting program.\n"
     ]
    }
   ],
   "source": [
    "# Initialize an empty list to store inventory items\n",
    "inventory = []\n",
    "\n",
    "# Function to add an item to the inventory\n",
    "def add_item():\n",
    "    # Input item details from the user\n",
    "    item_id = input(\"Enter Item ID: \")\n",
    "    item_name = input(\"Enter Item Name: \")\n",
    "    category = input(\"Enter Category: \")\n",
    "    unit_price = float(input(\"Enter Unit Price: \"))\n",
    "    current_stock = int(input(\"Enter Current Stock Quantity: \"))\n",
    "    min_stock_threshold = int(input(\"Enter Minimum Stock Threshold: \"))\n",
    "    \n",
    "    # Create a dictionary to store the item details\n",
    "    item = {\n",
    "        \"Item ID\": item_id,\n",
    "        \"Item Name\": item_name,\n",
    "        \"Category\": category,\n",
    "        \"Unit Price\": unit_price,\n",
    "        \"Current Stock\": current_stock,\n",
    "        \"Minimum Stock Threshold\": min_stock_threshold\n",
    "    }\n",
    "    \n",
    "    # Add the item to the inventory list\n",
    "    inventory.append(item)\n",
    "    print(f\"Item '{item_name}' added successfully!\\n\")\n",
    "\n",
    "# Function to display all items in the inventory\n",
    "def display_inventory():\n",
    "    if not inventory:  # Check if the inventory is empty\n",
    "        print(\"No items in inventory.\")\n",
    "    else:\n",
    "        print(\"Inventory List:\")\n",
    "        for item in inventory:\n",
    "            print(item)\n",
    "    print()  # Blank line for better readability\n",
    "\n",
    "# Function to search for an item by name\n",
    "def search_item():\n",
    "    search_term = input(\"Enter the item name to search: \").lower()\n",
    "    found = False\n",
    "    for item in inventory:\n",
    "        if search_term in item[\"Item Name\"].lower():\n",
    "            print(f\"Item found: {item}\")\n",
    "            found = True\n",
    "            break\n",
    "    if not found:\n",
    "        print(f\"No item found with the name '{search_term}'.\")\n",
    "    print()\n",
    "\n",
    "# Function to update the stock quantity of an item\n",
    "def update_stock():\n",
    "    item_name = input(\"Enter the item name to update stock: \").lower()\n",
    "    for item in inventory:\n",
    "        if item_name == item[\"Item Name\"].lower():\n",
    "            new_stock = int(input(\"Enter new stock quantity: \"))\n",
    "            item[\"Current Stock\"] = new_stock\n",
    "            print(f\"Stock updated for '{item['Item Name']}'. New stock: {new_stock}\")\n",
    "            break\n",
    "    else:\n",
    "        print(f\"No item found with the name '{item_name}'.\")\n",
    "    print()\n",
    "\n",
    "# Function to generate a low stock report\n",
    "def low_stock_report():\n",
    "    print(\"Low Stock Items (below threshold):\")\n",
    "    low_stock_items = [item for item in inventory if item[\"Current Stock\"] < item[\"Minimum Stock Threshold\"]]\n",
    "    if low_stock_items:\n",
    "        for item in low_stock_items:\n",
    "            print(item)\n",
    "    else:\n",
    "        print(\"No items are below the minimum stock threshold.\")\n",
    "    print()\n",
    "\n",
    "# Main menu function to interact with the user\n",
    "def menu():\n",
    "    while True:\n",
    "        # Display the menu options\n",
    "        print(\"Inventory Management Menu:\")\n",
    "        print(\"1. Add Item\")\n",
    "        print(\"2. Display Inventory\")\n",
    "        print(\"3. Search Item\")\n",
    "        print(\"4. Update Stock\")\n",
    "        print(\"5. Low Stock Report\")\n",
    "        print(\"6. Exit\")\n",
    "        \n",
    "        # Ask user to choose an option\n",
    "        choice = input(\"Enter your choice (1-6): \")\n",
    "        \n",
    "        if choice == '1':\n",
    "            add_item()\n",
    "        elif choice == '2':\n",
    "            display_inventory()\n",
    "        elif choice == '3':\n",
    "            search_item()\n",
    "        elif choice == '4':\n",
    "            update_stock()\n",
    "        elif choice == '5':\n",
    "            low_stock_report()\n",
    "        elif choice == '6':\n",
    "            print(\"Exiting program.\")\n",
    "            break  # Exit the loop and end the program\n",
    "        else:\n",
    "            print(\"Invalid choice. Please try again.\")\n",
    "        print()  # Blank line for readability\n",
    "\n",
    "# Start the inventory management system\n",
    "menu()"
   ]
  },
  {
   "cell_type": "code",
   "execution_count": null,
   "id": "1b52c2b9-288a-473c-bd92-2d288fecf22f",
   "metadata": {},
   "outputs": [],
   "source": []
  }
 ],
 "metadata": {
  "kernelspec": {
   "display_name": "Python 3 (ipykernel)",
   "language": "python",
   "name": "python3"
  },
  "language_info": {
   "codemirror_mode": {
    "name": "ipython",
    "version": 3
   },
   "file_extension": ".py",
   "mimetype": "text/x-python",
   "name": "python",
   "nbconvert_exporter": "python",
   "pygments_lexer": "ipython3",
   "version": "3.12.4"
  }
 },
 "nbformat": 4,
 "nbformat_minor": 5
}
